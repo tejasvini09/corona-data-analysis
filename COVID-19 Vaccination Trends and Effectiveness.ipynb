{
 "cells": [
  {
   "cell_type": "code",
   "execution_count": 1,
   "id": "b5c0e49e-cee8-4f48-b9c9-4e1ca916749f",
   "metadata": {},
   "outputs": [],
   "source": [
    "import pandas as pd\n",
    "import matplotlib.pyplot as plt\n",
    "import seaborn as sns\n",
    "\n",
    "vaccine_df = pd.read_csv(\"country_vaccinations.csv\")\n",
    "vaccine_brand_df = pd.read_csv(\"country_vaccinations_by_manufacturer.csv\")"
   ]
  },
  {
   "cell_type": "code",
   "execution_count": 2,
   "id": "413df8ff-38a0-44b9-bbfa-291dfea9402c",
   "metadata": {},
   "outputs": [
    {
     "data": {
      "text/html": [
       "<div>\n",
       "<style scoped>\n",
       "    .dataframe tbody tr th:only-of-type {\n",
       "        vertical-align: middle;\n",
       "    }\n",
       "\n",
       "    .dataframe tbody tr th {\n",
       "        vertical-align: top;\n",
       "    }\n",
       "\n",
       "    .dataframe thead th {\n",
       "        text-align: right;\n",
       "    }\n",
       "</style>\n",
       "<table border=\"1\" class=\"dataframe\">\n",
       "  <thead>\n",
       "    <tr style=\"text-align: right;\">\n",
       "      <th></th>\n",
       "      <th>country</th>\n",
       "      <th>iso_code</th>\n",
       "      <th>date</th>\n",
       "      <th>total_vaccinations</th>\n",
       "      <th>people_vaccinated</th>\n",
       "      <th>people_fully_vaccinated</th>\n",
       "      <th>daily_vaccinations_raw</th>\n",
       "      <th>daily_vaccinations</th>\n",
       "      <th>total_vaccinations_per_hundred</th>\n",
       "      <th>people_vaccinated_per_hundred</th>\n",
       "      <th>people_fully_vaccinated_per_hundred</th>\n",
       "      <th>daily_vaccinations_per_million</th>\n",
       "      <th>vaccines</th>\n",
       "      <th>source_name</th>\n",
       "      <th>source_website</th>\n",
       "    </tr>\n",
       "  </thead>\n",
       "  <tbody>\n",
       "    <tr>\n",
       "      <th>0</th>\n",
       "      <td>Afghanistan</td>\n",
       "      <td>AFG</td>\n",
       "      <td>2021-02-22</td>\n",
       "      <td>0.0</td>\n",
       "      <td>0.0</td>\n",
       "      <td>NaN</td>\n",
       "      <td>NaN</td>\n",
       "      <td>NaN</td>\n",
       "      <td>0.0</td>\n",
       "      <td>0.0</td>\n",
       "      <td>NaN</td>\n",
       "      <td>NaN</td>\n",
       "      <td>Johnson&amp;Johnson, Oxford/AstraZeneca, Pfizer/Bi...</td>\n",
       "      <td>World Health Organization</td>\n",
       "      <td>https://covid19.who.int/</td>\n",
       "    </tr>\n",
       "    <tr>\n",
       "      <th>1</th>\n",
       "      <td>Afghanistan</td>\n",
       "      <td>AFG</td>\n",
       "      <td>2021-02-23</td>\n",
       "      <td>NaN</td>\n",
       "      <td>NaN</td>\n",
       "      <td>NaN</td>\n",
       "      <td>NaN</td>\n",
       "      <td>1367.0</td>\n",
       "      <td>NaN</td>\n",
       "      <td>NaN</td>\n",
       "      <td>NaN</td>\n",
       "      <td>34.0</td>\n",
       "      <td>Johnson&amp;Johnson, Oxford/AstraZeneca, Pfizer/Bi...</td>\n",
       "      <td>World Health Organization</td>\n",
       "      <td>https://covid19.who.int/</td>\n",
       "    </tr>\n",
       "    <tr>\n",
       "      <th>2</th>\n",
       "      <td>Afghanistan</td>\n",
       "      <td>AFG</td>\n",
       "      <td>2021-02-24</td>\n",
       "      <td>NaN</td>\n",
       "      <td>NaN</td>\n",
       "      <td>NaN</td>\n",
       "      <td>NaN</td>\n",
       "      <td>1367.0</td>\n",
       "      <td>NaN</td>\n",
       "      <td>NaN</td>\n",
       "      <td>NaN</td>\n",
       "      <td>34.0</td>\n",
       "      <td>Johnson&amp;Johnson, Oxford/AstraZeneca, Pfizer/Bi...</td>\n",
       "      <td>World Health Organization</td>\n",
       "      <td>https://covid19.who.int/</td>\n",
       "    </tr>\n",
       "    <tr>\n",
       "      <th>3</th>\n",
       "      <td>Afghanistan</td>\n",
       "      <td>AFG</td>\n",
       "      <td>2021-02-25</td>\n",
       "      <td>NaN</td>\n",
       "      <td>NaN</td>\n",
       "      <td>NaN</td>\n",
       "      <td>NaN</td>\n",
       "      <td>1367.0</td>\n",
       "      <td>NaN</td>\n",
       "      <td>NaN</td>\n",
       "      <td>NaN</td>\n",
       "      <td>34.0</td>\n",
       "      <td>Johnson&amp;Johnson, Oxford/AstraZeneca, Pfizer/Bi...</td>\n",
       "      <td>World Health Organization</td>\n",
       "      <td>https://covid19.who.int/</td>\n",
       "    </tr>\n",
       "    <tr>\n",
       "      <th>4</th>\n",
       "      <td>Afghanistan</td>\n",
       "      <td>AFG</td>\n",
       "      <td>2021-02-26</td>\n",
       "      <td>NaN</td>\n",
       "      <td>NaN</td>\n",
       "      <td>NaN</td>\n",
       "      <td>NaN</td>\n",
       "      <td>1367.0</td>\n",
       "      <td>NaN</td>\n",
       "      <td>NaN</td>\n",
       "      <td>NaN</td>\n",
       "      <td>34.0</td>\n",
       "      <td>Johnson&amp;Johnson, Oxford/AstraZeneca, Pfizer/Bi...</td>\n",
       "      <td>World Health Organization</td>\n",
       "      <td>https://covid19.who.int/</td>\n",
       "    </tr>\n",
       "  </tbody>\n",
       "</table>\n",
       "</div>"
      ],
      "text/plain": [
       "       country iso_code        date  total_vaccinations  people_vaccinated  \\\n",
       "0  Afghanistan      AFG  2021-02-22                 0.0                0.0   \n",
       "1  Afghanistan      AFG  2021-02-23                 NaN                NaN   \n",
       "2  Afghanistan      AFG  2021-02-24                 NaN                NaN   \n",
       "3  Afghanistan      AFG  2021-02-25                 NaN                NaN   \n",
       "4  Afghanistan      AFG  2021-02-26                 NaN                NaN   \n",
       "\n",
       "   people_fully_vaccinated  daily_vaccinations_raw  daily_vaccinations  \\\n",
       "0                      NaN                     NaN                 NaN   \n",
       "1                      NaN                     NaN              1367.0   \n",
       "2                      NaN                     NaN              1367.0   \n",
       "3                      NaN                     NaN              1367.0   \n",
       "4                      NaN                     NaN              1367.0   \n",
       "\n",
       "   total_vaccinations_per_hundred  people_vaccinated_per_hundred  \\\n",
       "0                             0.0                            0.0   \n",
       "1                             NaN                            NaN   \n",
       "2                             NaN                            NaN   \n",
       "3                             NaN                            NaN   \n",
       "4                             NaN                            NaN   \n",
       "\n",
       "   people_fully_vaccinated_per_hundred  daily_vaccinations_per_million  \\\n",
       "0                                  NaN                             NaN   \n",
       "1                                  NaN                            34.0   \n",
       "2                                  NaN                            34.0   \n",
       "3                                  NaN                            34.0   \n",
       "4                                  NaN                            34.0   \n",
       "\n",
       "                                            vaccines  \\\n",
       "0  Johnson&Johnson, Oxford/AstraZeneca, Pfizer/Bi...   \n",
       "1  Johnson&Johnson, Oxford/AstraZeneca, Pfizer/Bi...   \n",
       "2  Johnson&Johnson, Oxford/AstraZeneca, Pfizer/Bi...   \n",
       "3  Johnson&Johnson, Oxford/AstraZeneca, Pfizer/Bi...   \n",
       "4  Johnson&Johnson, Oxford/AstraZeneca, Pfizer/Bi...   \n",
       "\n",
       "                 source_name            source_website  \n",
       "0  World Health Organization  https://covid19.who.int/  \n",
       "1  World Health Organization  https://covid19.who.int/  \n",
       "2  World Health Organization  https://covid19.who.int/  \n",
       "3  World Health Organization  https://covid19.who.int/  \n",
       "4  World Health Organization  https://covid19.who.int/  "
      ]
     },
     "execution_count": 2,
     "metadata": {},
     "output_type": "execute_result"
    }
   ],
   "source": [
    "vaccine_df.head()"
   ]
  },
  {
   "cell_type": "code",
   "execution_count": 5,
   "id": "55bc7ca3-74cd-4746-8ea7-1bbc920932c7",
   "metadata": {},
   "outputs": [
    {
     "data": {
      "text/html": [
       "<div>\n",
       "<style scoped>\n",
       "    .dataframe tbody tr th:only-of-type {\n",
       "        vertical-align: middle;\n",
       "    }\n",
       "\n",
       "    .dataframe tbody tr th {\n",
       "        vertical-align: top;\n",
       "    }\n",
       "\n",
       "    .dataframe thead th {\n",
       "        text-align: right;\n",
       "    }\n",
       "</style>\n",
       "<table border=\"1\" class=\"dataframe\">\n",
       "  <thead>\n",
       "    <tr style=\"text-align: right;\">\n",
       "      <th></th>\n",
       "      <th>location</th>\n",
       "      <th>date</th>\n",
       "      <th>vaccine</th>\n",
       "      <th>total_vaccinations</th>\n",
       "    </tr>\n",
       "  </thead>\n",
       "  <tbody>\n",
       "    <tr>\n",
       "      <th>0</th>\n",
       "      <td>Argentina</td>\n",
       "      <td>2020-12-29</td>\n",
       "      <td>Moderna</td>\n",
       "      <td>2</td>\n",
       "    </tr>\n",
       "    <tr>\n",
       "      <th>1</th>\n",
       "      <td>Argentina</td>\n",
       "      <td>2020-12-29</td>\n",
       "      <td>Oxford/AstraZeneca</td>\n",
       "      <td>3</td>\n",
       "    </tr>\n",
       "    <tr>\n",
       "      <th>2</th>\n",
       "      <td>Argentina</td>\n",
       "      <td>2020-12-29</td>\n",
       "      <td>Sinopharm/Beijing</td>\n",
       "      <td>1</td>\n",
       "    </tr>\n",
       "    <tr>\n",
       "      <th>3</th>\n",
       "      <td>Argentina</td>\n",
       "      <td>2020-12-29</td>\n",
       "      <td>Sputnik V</td>\n",
       "      <td>20481</td>\n",
       "    </tr>\n",
       "    <tr>\n",
       "      <th>4</th>\n",
       "      <td>Argentina</td>\n",
       "      <td>2020-12-30</td>\n",
       "      <td>Moderna</td>\n",
       "      <td>2</td>\n",
       "    </tr>\n",
       "  </tbody>\n",
       "</table>\n",
       "</div>"
      ],
      "text/plain": [
       "    location        date             vaccine  total_vaccinations\n",
       "0  Argentina  2020-12-29             Moderna                   2\n",
       "1  Argentina  2020-12-29  Oxford/AstraZeneca                   3\n",
       "2  Argentina  2020-12-29   Sinopharm/Beijing                   1\n",
       "3  Argentina  2020-12-29           Sputnik V               20481\n",
       "4  Argentina  2020-12-30             Moderna                   2"
      ]
     },
     "execution_count": 5,
     "metadata": {},
     "output_type": "execute_result"
    }
   ],
   "source": [
    "vaccine_brand_df.head()"
   ]
  },
  {
   "cell_type": "code",
   "execution_count": 7,
   "id": "c8a1b4a4-19ef-44d4-a7b9-c4ea08b471f0",
   "metadata": {},
   "outputs": [
    {
     "name": "stdout",
     "output_type": "stream",
     "text": [
      "<class 'pandas.core.frame.DataFrame'>\n",
      "RangeIndex: 86512 entries, 0 to 86511\n",
      "Data columns (total 15 columns):\n",
      " #   Column                               Non-Null Count  Dtype  \n",
      "---  ------                               --------------  -----  \n",
      " 0   country                              86512 non-null  object \n",
      " 1   iso_code                             86512 non-null  object \n",
      " 2   date                                 86512 non-null  object \n",
      " 3   total_vaccinations                   43607 non-null  float64\n",
      " 4   people_vaccinated                    41294 non-null  float64\n",
      " 5   people_fully_vaccinated              38802 non-null  float64\n",
      " 6   daily_vaccinations_raw               35362 non-null  float64\n",
      " 7   daily_vaccinations                   86213 non-null  float64\n",
      " 8   total_vaccinations_per_hundred       43607 non-null  float64\n",
      " 9   people_vaccinated_per_hundred        41294 non-null  float64\n",
      " 10  people_fully_vaccinated_per_hundred  38802 non-null  float64\n",
      " 11  daily_vaccinations_per_million       86213 non-null  float64\n",
      " 12  vaccines                             86512 non-null  object \n",
      " 13  source_name                          86512 non-null  object \n",
      " 14  source_website                       86512 non-null  object \n",
      "dtypes: float64(9), object(6)\n",
      "memory usage: 9.9+ MB\n"
     ]
    },
    {
     "data": {
      "text/plain": [
       "country                                    0\n",
       "iso_code                                   0\n",
       "date                                       0\n",
       "total_vaccinations                     42905\n",
       "people_vaccinated                      45218\n",
       "people_fully_vaccinated                47710\n",
       "daily_vaccinations_raw                 51150\n",
       "daily_vaccinations                       299\n",
       "total_vaccinations_per_hundred         42905\n",
       "people_vaccinated_per_hundred          45218\n",
       "people_fully_vaccinated_per_hundred    47710\n",
       "daily_vaccinations_per_million           299\n",
       "vaccines                                   0\n",
       "source_name                                0\n",
       "source_website                             0\n",
       "dtype: int64"
      ]
     },
     "execution_count": 7,
     "metadata": {},
     "output_type": "execute_result"
    }
   ],
   "source": [
    "vaccine_df.info()\n",
    "vaccine_df.isnull().sum()"
   ]
  },
  {
   "cell_type": "code",
   "execution_count": 69,
   "id": "ae449756-dab6-4753-b96a-62c32f59f803",
   "metadata": {},
   "outputs": [
    {
     "name": "stdout",
     "output_type": "stream",
     "text": [
      "country                                0\n",
      "iso_code                               0\n",
      "date                                   0\n",
      "total_vaccinations                     0\n",
      "people_vaccinated                      0\n",
      "people_fully_vaccinated                0\n",
      "daily_vaccinations_raw                 0\n",
      "daily_vaccinations                     0\n",
      "total_vaccinations_per_hundred         0\n",
      "people_vaccinated_per_hundred          0\n",
      "people_fully_vaccinated_per_hundred    0\n",
      "daily_vaccinations_per_million         0\n",
      "vaccines                               0\n",
      "source_name                            0\n",
      "source_website                         0\n",
      "dtype: int64\n"
     ]
    }
   ],
   "source": [
    "# Identify numeric and non-numeric columns\n",
    "df1=vaccine_df\n",
    "numeric_cols = df1.select_dtypes(include=['number']).columns\n",
    "non_numeric_cols = df1.select_dtypes(include=['object']).columns\n",
    "\n",
    "# Fill numeric columns with median\n",
    "for col in numeric_cols:\n",
    "    median_value = df1[col].mean()\n",
    "    df1[col] = df1[col].fillna(median_value)\n",
    "\n",
    "# Fill non-numeric columns with mode\n",
    "for col in non_numeric_cols:\n",
    "    mode_value = df1[col].mode()[0]\n",
    "    df1[col] = df1[col].fillna(mode_value)\n",
    "\n",
    "# Confirm no missing values remain\n",
    "print(df1.isnull().sum())\n",
    "df1.to_csv(\"vaccine_cleaned.csv\", index = False)"
   ]
  },
  {
   "cell_type": "code",
   "execution_count": 31,
   "id": "2e533acf-4068-4de2-99c7-b62e51934bda",
   "metadata": {},
   "outputs": [
    {
     "data": {
      "text/plain": [
       "location              0\n",
       "date                  0\n",
       "vaccine               0\n",
       "total_vaccinations    0\n",
       "dtype: int64"
      ]
     },
     "execution_count": 31,
     "metadata": {},
     "output_type": "execute_result"
    }
   ],
   "source": [
    "df2 = vaccine_brand_df\n",
    "df2.isnull().sum()"
   ]
  },
  {
   "cell_type": "markdown",
   "id": "adf11e7e-1639-41c8-a41e-3da7f413540b",
   "metadata": {},
   "source": [
    "# Exploaratory Data Analysis"
   ]
  },
  {
   "cell_type": "markdown",
   "id": "2496985c-7799-4790-b5b9-877934644be6",
   "metadata": {},
   "source": [
    "<b>Questions"
   ]
  },
  {
   "cell_type": "code",
   "execution_count": 33,
   "id": "ff821a4d-1ae5-4456-9733-b1a09e32337c",
   "metadata": {},
   "outputs": [
    {
     "name": "stdout",
     "output_type": "stream",
     "text": [
      "country\n",
      "China            3.263129e+09\n",
      "India            1.834501e+09\n",
      "United States    5.601818e+08\n",
      "Brazil           4.135596e+08\n",
      "Indonesia        3.771089e+08\n",
      "Japan            2.543456e+08\n",
      "Bangladesh       2.436427e+08\n",
      "Pakistan         2.193686e+08\n",
      "Vietnam          2.031444e+08\n",
      "Mexico           1.919079e+08\n",
      "Name: total_vaccinations, dtype: float64\n"
     ]
    },
    {
     "data": {
      "text/plain": [
       "<Axes: title={'center': 'Top 10 Countries by Total Vaccinations'}, xlabel='country'>"
      ]
     },
     "execution_count": 33,
     "metadata": {},
     "output_type": "execute_result"
    },
    {
     "data": {
      "image/png": "[encoded data removed]",
      "text/plain": [
       "<Figure size 640x480 with 1 Axes>"
      ]
     },
     "metadata": {},
     "output_type": "display_data"
    }
   ],
   "source": [
    "# Q1: Which countries have vaccinated the most people?\n",
    "top_vaccine = df1.groupby(\"country\")[\"total_vaccinations\"].max().sort_values(ascending=False).head(10)\n",
    "print(top_vaccine)\n",
    "top_vaccine.plot(kind=\"bar\", title=\"Top 10 Countries by Total Vaccinations\")"
   ]
  },
  {
   "cell_type": "code",
   "execution_count": 35,
   "id": "dd51fd68-4c7c-4cec-83c6-a50abecadfe2",
   "metadata": {},
   "outputs": [
    {
     "data": {
      "text/plain": [
       "<Axes: title={'center': 'Daily Vaccinations in India'}, xlabel='date'>"
      ]
     },
     "execution_count": 35,
     "metadata": {},
     "output_type": "execute_result"
    },
    {
     "data": {
      "image/png": "[encoded data removed]",
      "text/plain": [
       "<Figure size 640x480 with 1 Axes>"
      ]
     },
     "metadata": {},
     "output_type": "display_data"
    }
   ],
   "source": [
    "# Q2: What is the daily vaccination trend in India\n",
    "india = df1[df1[\"country\"] == \"India\"]\n",
    "india.plot(x=\"date\", y=\"daily_vaccinations\", title=\"Daily Vaccinations in India\")"
   ]
  },
  {
   "cell_type": "code",
   "execution_count": 37,
   "id": "b301924f-a5ee-417b-a473-c108a6b9d778",
   "metadata": {},
   "outputs": [
    {
     "name": "stdout",
     "output_type": "stream",
     "text": [
      "Early Responders:\n",
      " country\n",
      "Latvia           2020-12-04\n",
      "Norway           2020-12-08\n",
      "Denmark          2020-12-08\n",
      "United States    2020-12-13\n",
      "Canada           2020-12-14\n",
      "Russia           2020-12-15\n",
      "China            2020-12-15\n",
      "Israel           2020-12-19\n",
      "Switzerland      2020-12-21\n",
      "Qatar            2020-12-22\n",
      "Name: date, dtype: object\n",
      "\n",
      "Late Responders:\n",
      " country\n",
      "Kiribati        2021-06-02\n",
      "Burkina Faso    2021-06-02\n",
      "Vanuatu         2021-06-02\n",
      "Chad            2021-06-10\n",
      "Pitcairn        2021-06-15\n",
      "Niue            2021-06-22\n",
      "Tokelau         2021-06-22\n",
      "Haiti           2021-07-16\n",
      "Tanzania        2021-08-08\n",
      "Burundi         2021-10-19\n",
      "Name: date, dtype: object\n"
     ]
    }
   ],
   "source": [
    "# Q3: When did each country start vaccinating?\n",
    "first_dates = df1[df1[\"people_vaccinated\"] > 0].groupby(\"country\")[\"date\"].min()\n",
    "print(\"Early Responders:\\n\",first_dates.sort_values().head(10))\n",
    "print(\"\\nLate Responders:\\n\",first_dates.sort_values().tail(10))"
   ]
  },
  {
   "cell_type": "code",
   "execution_count": 39,
   "id": "47c3cf62-1c8d-41e1-9424-7a8feda6d864",
   "metadata": {},
   "outputs": [
    {
     "name": "stdout",
     "output_type": "stream",
     "text": [
      "Diversity of vaccine usage\n",
      " location\n",
      "European Union    9\n",
      "Portugal          8\n",
      "Latvia            7\n",
      "Slovakia          6\n",
      "Hungary           6\n",
      "Argentina         6\n",
      "Cyprus            5\n",
      "Italy             5\n",
      "Ukraine           5\n",
      "South Korea       5\n",
      "Name: vaccine, dtype: int64\n"
     ]
    }
   ],
   "source": [
    "# Q4: Which country uses the most different vaccine brands?\n",
    "brand_count = df2.groupby(\"location\")[\"vaccine\"].nunique().sort_values(ascending=False)\n",
    "print(\"Diversity of vaccine usage\\n\",brand_count.head(10))"
   ]
  },
  {
   "cell_type": "code",
   "execution_count": 41,
   "id": "470175ac-aa0a-480b-83a7-97014f6e19e7",
   "metadata": {},
   "outputs": [
    {
     "name": "stdout",
     "output_type": "stream",
     "text": [
      "vaccine\n",
      "Pfizer/BioNTech       344835955037\n",
      "Moderna               103072147621\n",
      "Oxford/AstraZeneca     46451509497\n",
      "Sinovac                13407163275\n",
      "Johnson&Johnson        12611375881\n",
      "Sinopharm/Beijing      10877006517\n",
      "Sputnik V               5787343199\n",
      "CanSino                  271397675\n",
      "Novavax                    8268113\n",
      "Covaxin                       3572\n",
      "Name: total_vaccinations, dtype: int64\n"
     ]
    },
    {
     "data": {
      "text/plain": [
       "<Axes: title={'center': 'Most Used Vaccine Brands Globally'}, xlabel='vaccine'>"
      ]
     },
     "execution_count": 41,
     "metadata": {},
     "output_type": "execute_result"
    },
    {
     "data": {
      "image/png": "[encoded data removed]",
      "text/plain": [
       "<Figure size 640x480 with 1 Axes>"
      ]
     },
     "metadata": {},
     "output_type": "display_data"
    }
   ],
   "source": [
    "# Q5: Which vaccine brands were most used globally?\n",
    "global_vaccine_brand = df2.groupby(\"vaccine\")[\"total_vaccinations\"].sum().sort_values(ascending=False)\n",
    "print(global_vaccine_brand)\n",
    "global_vaccine_brand.plot(kind=\"bar\", title=\"Most Used Vaccine Brands Globally\")"
   ]
  },
  {
   "cell_type": "code",
   "execution_count": 57,
   "id": "125a5faa-a0ef-409a-8939-f891fa0099b0",
   "metadata": {},
   "outputs": [
    {
     "name": "stdout",
     "output_type": "stream",
     "text": [
      "               country        date\n",
      "0          Afghanistan  2021-02-23\n",
      "1              Albania  2021-01-11\n",
      "2              Algeria  2021-01-31\n",
      "3              Andorra  2021-01-26\n",
      "4               Angola  2021-03-02\n",
      "5             Anguilla  2021-02-05\n",
      "6  Antigua and Barbuda  2021-02-17\n",
      "7            Argentina  2021-02-24\n",
      "8              Armenia  2021-04-01\n",
      "9                Aruba  2021-03-30\n"
     ]
    }
   ],
   "source": [
    "# Q6: Which countries achieved the fastest vaccination rollout (1M doses)?\n",
    "million_reach = df1[df1[\"total_vaccinations\"] >= 1_000_000].groupby(\"country\")[\"date\"].min().reset_index()\n",
    "print(million_reach.head(10))"
   ]
  },
  {
   "cell_type": "code",
   "execution_count": 95,
   "id": "032f8dfb-e337-4b56-addc-8b30ef76af4f",
   "metadata": {},
   "outputs": [
    {
     "name": "stdout",
     "output_type": "stream",
     "text": [
      "                    country  fully_vax_percent\n",
      "30235             Gibraltar             122.37\n",
      "62293              Pitcairn             100.00\n",
      "81916  United Arab Emirates              96.12\n",
      "63189              Portugal              92.60\n",
      "11745                Brunei              91.71\n",
      "70228             Singapore              91.04\n",
      "49111                 Malta              90.35\n",
      "15755                 Chile              90.29\n",
      "63652                 Qatar              88.50\n",
      "14701        Cayman Islands              87.80\n"
     ]
    }
   ],
   "source": [
    "# Q7: What % of a country's population is fully vaccinated?\n",
    "latest = df1.sort_values(\"date\").drop_duplicates(subset=[\"country\"], keep=\"last\")\n",
    "latest[\"fully_vax_percent\"] = (latest[\"people_fully_vaccinated_per_hundred\"])\n",
    "top = latest.sort_values(\"fully_vax_percent\", ascending=False).head(10)\n",
    "print(top[[\"country\", \"fully_vax_percent\"]])\n"
   ]
  },
  {
   "cell_type": "code",
   "execution_count": 67,
   "id": "954acf2e-0dac-41a8-9a6f-18b20fd580da",
   "metadata": {},
   "outputs": [
    {
     "name": "stdout",
     "output_type": "stream",
     "text": [
      "country\n",
      "Cook Islands                35 days\n",
      "Niue                        41 days\n",
      "Pitcairn                    42 days\n",
      "Gibraltar                   63 days\n",
      "Falkland Islands            65 days\n",
      "Aruba                       73 days\n",
      "San Marino                  85 days\n",
      "Sint Maarten (Dutch part)   91 days\n",
      "Jersey                      91 days\n",
      "Saint Helena                91 days\n",
      "Name: date, dtype: timedelta64[ns]\n"
     ]
    }
   ],
   "source": [
    "# Q8. How long did it take each country to go from first dose to 50% full vaccination?\n",
    "df1[\"date\"] = pd.to_datetime(df1[\"date\"]) \n",
    "first_dose = df1[df1['people_vaccinated'] > 0].groupby(\"country\")[\"date\"].min()\n",
    "half_vax = df1[df1['people_fully_vaccinated_per_hundred'] >= 50].groupby(\"country\")[\"date\"].min()\n",
    "time_taken = (half_vax - first_dose).dropna().sort_values()\n",
    "print(time_taken.head(10))"
   ]
  },
  {
   "cell_type": "code",
   "execution_count": 71,
   "id": "4ad267ca-4536-4f02-9696-7c11e7040671",
   "metadata": {},
   "outputs": [
    {
     "name": "stdout",
     "output_type": "stream",
     "text": [
      "country\n",
      "Liechtenstein               6097.050457\n",
      "Cayman Islands              6145.321078\n",
      "Bermuda                     6250.167232\n",
      "Turks and Caicos Islands    6253.244628\n",
      "Gibraltar                   6260.645162\n",
      "Iceland                     6295.864627\n",
      "Seychelles                  6300.114986\n",
      "Isle of Man                 6335.745798\n",
      "Guernsey                    6370.746636\n",
      "Luxembourg                  6397.647893\n",
      "Name: daily_vaccinations, dtype: float64\n"
     ]
    }
   ],
   "source": [
    "#9. Which countries maintained consistent vaccination (low std deviation)?\n",
    "std_dev = df1.groupby(\"country\")[\"daily_vaccinations\"].std().sort_values()\n",
    "print(std_dev.head(10)) "
   ]
  },
  {
   "cell_type": "code",
   "execution_count": 74,
   "id": "f1c2c1e6-8565-427f-8ed2-a318cd56aff2",
   "metadata": {},
   "outputs": [
    {
     "name": "stdout",
     "output_type": "stream",
     "text": [
      "country\n",
      "Estonia             7.205909e+04\n",
      "Slovenia            3.185303e+05\n",
      "Malta               3.239042e+05\n",
      "Northern Ireland    3.246232e+05\n",
      "Ireland             3.397695e+05\n",
      "                        ...     \n",
      "Indonesia           2.674136e+07\n",
      "United States       2.842748e+07\n",
      "Brazil              3.306264e+07\n",
      "China               3.887890e+07\n",
      "India               2.041826e+08\n",
      "Name: dose_gap, Length: 223, dtype: float64\n"
     ]
    }
   ],
   "source": [
    "# Q10: What is the gap between first dose and second dose for each country?\n",
    "gap_data = df[df[\"people_fully_vaccinated\"].notna()]\n",
    "gap_data[\"dose_gap\"] = abs(gap_data[\"people_vaccinated\"] - gap_data[\"people_fully_vaccinated\"])\n",
    "print(gap_data.groupby(\"country\")[\"dose_gap\"].mean().sort_values())"
   ]
  },
  {
   "cell_type": "code",
   "execution_count": null,
   "id": "e6fbc69c-ca97-4712-a289-4ca7e09c6285",
   "metadata": {},
   "outputs": [],
   "source": []
  }
 ],
 "metadata": {
  "kernelspec": {
   "display_name": "Python 3 (ipykernel)",
   "language": "python",
   "name": "python3"
  },
  "language_info": {
   "codemirror_mode": {
    "name": "ipython",
    "version": 3
   },
   "file_extension": ".py",
   "mimetype": "text/x-python",
   "name": "python",
   "nbconvert_exporter": "python",
   "pygments_lexer": "ipython3",
   "version": "3.11.7"
  }
 },
 "nbformat": 4,
 "nbformat_minor": 5
}
